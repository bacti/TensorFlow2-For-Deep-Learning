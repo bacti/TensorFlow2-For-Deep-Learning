{
 "cells": [
  {
   "cell_type": "code",
   "execution_count": null,
   "metadata": {
    "id": "teOpfw0hKUQh"
   },
   "outputs": [],
   "source": [
    "import tensorflow as tf\n",
    "print(tf.__version__)"
   ]
  },
  {
   "cell_type": "markdown",
   "metadata": {
    "id": "2U6iIpalKUQr"
   },
   "source": [
    "# The Keras functional API"
   ]
  },
  {
   "cell_type": "markdown",
   "metadata": {
    "id": "jIoR--DrKUQs"
   },
   "source": [
    " ## Coding tutorials\n",
    " #### [1. Multiple inputs and outputs](#coding_tutorial_1)\n",
    " #### [2. Tensors and Variables](#coding_tutorial_2)\n",
    " #### [3. Accessing model layers](#coding_tutorial_3)\n",
    " #### [4. Freezing layers](#coding_tutorial_4)"
   ]
  },
  {
   "cell_type": "markdown",
   "metadata": {
    "id": "qhZ0R9arKUQt"
   },
   "source": [
    "***\n",
    "<a id=\"coding_tutorial_1\"></a>\n",
    "## Multiple inputs and outputs"
   ]
  },
  {
   "cell_type": "code",
   "execution_count": null,
   "metadata": {
    "id": "Atjv7GqMKUQu"
   },
   "outputs": [],
   "source": [
    "import numpy as np\n",
    "import pandas as pd\n",
    "import matplotlib.pyplot as plt\n",
    "%matplotlib inline"
   ]
  },
  {
   "cell_type": "markdown",
   "metadata": {
    "id": "CCNmLCsKKUQy"
   },
   "source": [
    "#### Load the acute inflammations dataset\n",
    "\n",
    "The `acute inflammations` was created by a medical expert as a data set to test the expert system, which will perform the presumptive diagnosis of two diseases of the urinary system. You can find out more about the dataset [here](https://archive.ics.uci.edu/ml/datasets/Acute+Inflammations).\n",
    "\n",
    "Attribute information:\n",
    "\n",
    "Inputs:\n",
    "- Temperature of patient : 35C-42C\n",
    "- Occurrence of nausea : yes/no\n",
    "- Lumbar pain : yes/no\n",
    "- Urine pushing (continuous need for urination) : yes/no\n",
    "- Micturition pains : yes/no\n",
    "- Burning of urethra, itch, swelling of urethra outlet : yes/no\n",
    "\n",
    "Outputs:\n",
    "- decision 1: Inflammation of urinary bladder : yes/no\n",
    "- decision 2: Nephritis of renal pelvis origin : yes/no"
   ]
  },
  {
   "cell_type": "markdown",
   "metadata": {
    "id": "BsE7ATcyKV7E"
   },
   "source": [
    "#### Import the data\n",
    "\n",
    "The dataset required for this tutorial can be downloaded from the following link:\n",
    "\n",
    "https://drive.google.com/open?id=1CDPQSqpI7OjNIgOERWaI-BlQMI6vjzb9\n",
    "\n",
    "You should store this file in Drive for use in this Colab notebook."
   ]
  },
  {
   "cell_type": "markdown",
   "metadata": {
    "id": "mldOoZD-KUQ0"
   },
   "source": [
    "#### Load the data"
   ]
  },
  {
   "cell_type": "code",
   "execution_count": null,
   "metadata": {
    "id": "uM2ETK5qKXDq"
   },
   "outputs": [],
   "source": [
    "# Run this cell to connect to your Drive folder\n",
    "# from google.colab import drive\n",
    "# drive.mount('/content/gdrive')"
   ]
  },
  {
   "cell_type": "code",
   "execution_count": null,
   "metadata": {
    "id": "__6I4CYqKUQ1"
   },
   "outputs": [],
   "source": [
    "# Load the dataset\n",
    "from sklearn.model_selection import train_test_split\n",
    "pd_dat = pd.read_csv('data/diagnosis.csv')\n",
    "dataset = pd_dat.values"
   ]
  },
  {
   "cell_type": "code",
   "execution_count": null,
   "metadata": {
    "id": "-wVA5JI8KUQ5"
   },
   "outputs": [],
   "source": [
    "# Build train and test data splits\n",
    "\n",
    "X_train, X_test, Y_train, Y_test = train_test_split(dataset[:,:6], dataset[:,6:], test_size=0.33)"
   ]
  },
  {
   "cell_type": "code",
   "execution_count": null,
   "metadata": {
    "id": "K03GPQNZKUQ9"
   },
   "outputs": [],
   "source": [
    "# Assign training and testing inputs/outputs\n",
    "\n",
    "temp_train, nocc_train, lumbp_train, up_train, mict_train, bis_train = np.transpose(X_train)\n",
    "temp_test, nocc_test, lumbp_test, up_test, mict_test, bis_test = np.transpose(X_test)\n",
    "\n",
    "inflam_train, nephr_train = Y_train[:, 0], Y_train[:, 1]\n",
    "inflam_test, nephr_test = Y_test[:, 0], Y_test[:, 1]"
   ]
  },
  {
   "cell_type": "markdown",
   "metadata": {
    "id": "Vw_mtaCSKURC"
   },
   "source": [
    "#### Build the model"
   ]
  },
  {
   "cell_type": "code",
   "execution_count": null,
   "metadata": {
    "id": "Xjtuk2OmKURE"
   },
   "outputs": [],
   "source": [
    "# Build the input layers\n",
    "from tensorflow.keras import Input, layers\n",
    "shape_inputs = (1,)\n",
    "temperature = Input(shape = shape_inputs, name = 'temp')\n",
    "nausea_occurence = Input(shape = shape_inputs, name = 'nocc')\n",
    "lumbar_pain = Input(shape = shape_inputs, name = 'lumbp')\n",
    "urine_pushing = Input(shape = shape_inputs, name = 'up')\n",
    "micturition_pains = Input(shape = shape_inputs, name = 'mict')\n",
    "bis = Input(shape = shape_inputs, name = 'bis')"
   ]
  },
  {
   "cell_type": "code",
   "execution_count": null,
   "metadata": {
    "id": "rJDt1D0LKURI",
    "scrolled": true
   },
   "outputs": [],
   "source": [
    "# Create a list of all the inputs\n",
    "list_inputs = [temperature, nausea_occurence, lumbar_pain, urine_pushing, \n",
    "               micturition_pains, bis]"
   ]
  },
  {
   "cell_type": "code",
   "execution_count": null,
   "metadata": {
    "id": "P41WGVnqKURM"
   },
   "outputs": [],
   "source": [
    "# Merge all input features into a single large vector\n",
    "x = layers.concatenate(list_inputs)"
   ]
  },
  {
   "cell_type": "code",
   "execution_count": null,
   "metadata": {
    "id": "BKZOJR-PKURR"
   },
   "outputs": [],
   "source": [
    "# Use a logistic regression classifier for disease prediction\n",
    "inflammation_pred = layers.Dense(1, activation = 'sigmoid', name = 'inflam')(x)\n",
    "nephritis_pred = layers.Dense(1, activation = 'sigmoid', name = 'nephr')(x)"
   ]
  },
  {
   "cell_type": "code",
   "execution_count": null,
   "metadata": {
    "id": "M2tESqXWKURV",
    "scrolled": true
   },
   "outputs": [],
   "source": [
    "# Create a list of all the outputs\n",
    "list_outputs = [inflammation_pred, nephritis_pred]"
   ]
  },
  {
   "cell_type": "code",
   "execution_count": null,
   "metadata": {
    "id": "AZFVEYX8KURZ"
   },
   "outputs": [],
   "source": [
    "# Create the model object\n",
    "model = tf.keras.Model(inputs = list_inputs, outputs = list_outputs)"
   ]
  },
  {
   "cell_type": "markdown",
   "metadata": {
    "id": "m5zoXn36KURd"
   },
   "source": [
    "#### Plot the model"
   ]
  },
  {
   "cell_type": "code",
   "execution_count": null,
   "metadata": {
    "id": "b3-_VOYiKURe"
   },
   "outputs": [],
   "source": [
    "# Display the multiple input/output model\n",
    "tf.keras.utils.plot_model(model, 'multi_input_output_model.png', show_shapes = True)"
   ]
  },
  {
   "cell_type": "markdown",
   "metadata": {
    "id": "FCXImgxwKURi"
   },
   "source": [
    "#### Compile the model"
   ]
  },
  {
   "cell_type": "code",
   "execution_count": null,
   "metadata": {
    "id": "MpGzpAeYKURn",
    "scrolled": true
   },
   "outputs": [],
   "source": [
    "# Compile the model\n",
    "\n"
   ]
  },
  {
   "cell_type": "markdown",
   "metadata": {
    "id": "LogIRCGRKURr"
   },
   "source": [
    "#### Fit the model "
   ]
  },
  {
   "cell_type": "code",
   "execution_count": null,
   "metadata": {
    "id": "WVDztBCHKURs"
   },
   "outputs": [],
   "source": [
    "# Define training inputs and outputs\n",
    "\n",
    "inputs_train = {'temp': temp_train, 'nocc': nocc_train, 'lumbp': lumbp_train,\n",
    "                'up': up_train, 'mict': mict_train, 'bis': bis_train}\n",
    "\n",
    "outputs_train = {'inflam': inflam_train, 'nephr': nephr_train}"
   ]
  },
  {
   "cell_type": "code",
   "execution_count": null,
   "metadata": {
    "id": "Nd9z2B7NKURw"
   },
   "outputs": [],
   "source": [
    "# Train the model\n",
    "\n"
   ]
  },
  {
   "cell_type": "markdown",
   "metadata": {
    "id": "2D5WmZvkKURz"
   },
   "source": [
    "#### Plot the learning curves"
   ]
  },
  {
   "cell_type": "code",
   "execution_count": null,
   "metadata": {
    "id": "6GgUOXPPKUR0"
   },
   "outputs": [],
   "source": [
    "# Plot the training accuracy\n",
    "\n",
    "acc_keys = [k for k in history.history.keys() if k in ('inflam_acc', 'nephr_acc')] \n",
    "loss_keys = [k for k in history.history.keys() if not k in acc_keys]\n",
    "\n",
    "for k, v in history.history.items():\n",
    "    if k in acc_keys:\n",
    "        plt.figure(1)\n",
    "        plt.plot(v)\n",
    "    else:\n",
    "        plt.figure(2)\n",
    "        plt.plot(v)\n",
    "\n",
    "plt.figure(1)\n",
    "plt.title('Accuracy vs. epochs')\n",
    "plt.ylabel('Accuracy')\n",
    "plt.xlabel('Epoch')\n",
    "plt.legend(acc_keys, loc='upper right')\n",
    "\n",
    "plt.figure(2)\n",
    "plt.title('Loss vs. epochs')\n",
    "plt.ylabel('Loss')\n",
    "plt.xlabel('Epoch')\n",
    "plt.legend(loss_keys, loc='upper right')\n",
    "\n",
    "plt.show()"
   ]
  },
  {
   "cell_type": "code",
   "execution_count": null,
   "metadata": {
    "id": "gGnXQLRyKUR4"
   },
   "outputs": [],
   "source": [
    "# Evaluate the model\n",
    "\n"
   ]
  },
  {
   "cell_type": "markdown",
   "metadata": {
    "id": "G5xxvVY3KUR8"
   },
   "source": [
    "***\n",
    "<a id=\"coding_tutorial_2\"></a>\n",
    "## Tensors and Variables"
   ]
  },
  {
   "cell_type": "code",
   "execution_count": null,
   "metadata": {
    "id": "fTIe7EbMKUR9"
   },
   "outputs": [],
   "source": [
    "import numpy as np"
   ]
  },
  {
   "cell_type": "markdown",
   "metadata": {
    "id": "XEKAybugKUSD"
   },
   "source": [
    "#### Create Variable objects"
   ]
  },
  {
   "cell_type": "code",
   "execution_count": null,
   "metadata": {
    "id": "PQnCI7UPKUSF"
   },
   "outputs": [],
   "source": [
    "# Create Variable objects of different type with tf.Variable\n",
    "\n",
    "strings = tf.Variable([\"Hello world!\"], tf.string)\n",
    "floats  = tf.Variable([3.14159, 2.71828], tf.float64)\n",
    "ints = tf.Variable([1, 2, 3], tf.int32)\n",
    "complexs = tf.Variable([25.9 - 7.39j, 1.23 - 4.91j], tf.complex128)"
   ]
  },
  {
   "cell_type": "code",
   "execution_count": null,
   "metadata": {
    "id": "8st30T0kKUSJ"
   },
   "outputs": [],
   "source": [
    "# Initialise a Variable value\n",
    "\n"
   ]
  },
  {
   "cell_type": "markdown",
   "metadata": {
    "id": "9rOpqQVNKUSO"
   },
   "source": [
    "#### Use and modify Variable values"
   ]
  },
  {
   "cell_type": "code",
   "execution_count": null,
   "metadata": {
    "id": "BM_P9WM1KUSP"
   },
   "outputs": [],
   "source": [
    "# Use the value of a Variable\n",
    "\n",
    "v = tf.Variable(0.0)\n",
    "w = v + 1  # w is a tf.Tensor which is computed based on the value of v.\n",
    "\n",
    "print(type(w))"
   ]
  },
  {
   "cell_type": "code",
   "execution_count": null,
   "metadata": {
    "id": "ZphqbA9bKUSV"
   },
   "outputs": [],
   "source": [
    "# Increment the value of a Variable\n",
    "\n"
   ]
  },
  {
   "cell_type": "code",
   "execution_count": null,
   "metadata": {
    "id": "bUTr5IMKKUSc"
   },
   "outputs": [],
   "source": [
    "# Decrement the value of a Variable\n",
    "\n"
   ]
  },
  {
   "cell_type": "markdown",
   "metadata": {
    "id": "1fn43vXfKUSj"
   },
   "source": [
    "#### Create Tensor objects"
   ]
  },
  {
   "cell_type": "markdown",
   "metadata": {
    "id": "ydXIlRLVKUSk"
   },
   "source": [
    "Create a constant tensor and print its type as well as its shape:"
   ]
  },
  {
   "cell_type": "code",
   "execution_count": null,
   "metadata": {
    "id": "ynmKF5WBKUSn"
   },
   "outputs": [],
   "source": [
    "# Create a constant Tensor\n",
    "\n",
    "x = tf.constant([[1, 2, 3], [4, 5, 6], [7, 8, 9]])\n",
    "print(x)\n",
    "print(\"dtype:\", x.dtype)\n",
    "print(\"shape:\", x.shape)"
   ]
  },
  {
   "cell_type": "code",
   "execution_count": null,
   "metadata": {
    "id": "ONzNFdvBKUSw"
   },
   "outputs": [],
   "source": [
    "# Obtain the value as a numpy array\n",
    "\n"
   ]
  },
  {
   "cell_type": "code",
   "execution_count": null,
   "metadata": {
    "id": "Z_coR5e_KUS1"
   },
   "outputs": [],
   "source": [
    "# Create a Tensor of type float32\n",
    "\n"
   ]
  },
  {
   "cell_type": "code",
   "execution_count": null,
   "metadata": {
    "id": "66vsJ2nDKUS6"
   },
   "outputs": [],
   "source": [
    "# Create coefficients\n",
    "\n",
    "coeffs = np.arange(16)"
   ]
  },
  {
   "cell_type": "code",
   "execution_count": null,
   "metadata": {
    "id": "oklUSgBkKUS_"
   },
   "outputs": [],
   "source": [
    "# Initialise shapes\n",
    "\n"
   ]
  },
  {
   "cell_type": "code",
   "execution_count": null,
   "metadata": {
    "id": "xDueGPOZKUTE"
   },
   "outputs": [],
   "source": [
    "# Create Tensors of different shape\n",
    "\n",
    "a = tf.constant(coeffs, shape=shape1)\n",
    "print(\"\\n a:\\n \", a)\n",
    "\n",
    "b = tf.constant(coeffs, shape=shape2)\n",
    "print(\"\\n b:\\n \", b)\n",
    "\n",
    "c = tf.constant(coeffs, shape=shape3)\n",
    "print(\"\\n c:\\n \", c)"
   ]
  },
  {
   "cell_type": "markdown",
   "metadata": {
    "id": "wQunv2imKUTH"
   },
   "source": [
    "#### Useful Tensor operations"
   ]
  },
  {
   "cell_type": "code",
   "execution_count": null,
   "metadata": {
    "id": "ckoPBCdeKUTI"
   },
   "outputs": [],
   "source": [
    "# Create a constant Tensor\n",
    "\n",
    "t = tf.constant(np.arange(80), shape=[5,2,8])"
   ]
  },
  {
   "cell_type": "code",
   "execution_count": null,
   "metadata": {
    "id": "QIgKN6x_KUTN"
   },
   "outputs": [],
   "source": [
    "# Get the rank of a Tensor\n",
    "\n"
   ]
  },
  {
   "cell_type": "code",
   "execution_count": null,
   "metadata": {
    "id": "w1lcPqXbKUTU"
   },
   "outputs": [],
   "source": [
    "# Display the rank\n",
    "\n",
    "print(\"rank: \", rank)"
   ]
  },
  {
   "cell_type": "code",
   "execution_count": null,
   "metadata": {
    "id": "bDZTFUpKKUTY"
   },
   "outputs": [],
   "source": [
    "# Reshape a Tensor\n",
    "\n"
   ]
  },
  {
   "cell_type": "code",
   "execution_count": null,
   "metadata": {
    "id": "-Jh0xAmhKUTb"
   },
   "outputs": [],
   "source": [
    "# Display the new shape\n",
    "\n",
    "print(\"t2.shape: \", t2.shape)"
   ]
  },
  {
   "cell_type": "code",
   "execution_count": null,
   "metadata": {
    "id": "LLGauT00KUTd"
   },
   "outputs": [],
   "source": [
    "# Create ones, zeros, identity and constant Tensors\n",
    "\n"
   ]
  },
  {
   "cell_type": "code",
   "execution_count": null,
   "metadata": {
    "id": "rqVS1qx7KUTf"
   },
   "outputs": [],
   "source": [
    "# Display the created tensors\n",
    "\n",
    "print(\"\\n Ones:\\n \", ones)\n",
    "print(\"\\n Zeros:\\n \", zeros)\n",
    "print(\"\\n Identity:\\n \", eye)\n",
    "print(\"\\n Tensor filled with 7: \", tensor7)"
   ]
  },
  {
   "cell_type": "code",
   "execution_count": null,
   "metadata": {
    "id": "HWrvSDxNKUTl"
   },
   "outputs": [],
   "source": [
    "# Create a ones Tensor and a zeros Tensor\n",
    "\n",
    "t1 = tf.ones(shape=(2, 2))\n",
    "t2 = tf.zeros(shape=(2, 2))"
   ]
  },
  {
   "cell_type": "code",
   "execution_count": null,
   "metadata": {
    "id": "1j_bYOrhKUTq"
   },
   "outputs": [],
   "source": [
    "# Concatentate two Tensors\n",
    "\n"
   ]
  },
  {
   "cell_type": "code",
   "execution_count": null,
   "metadata": {
    "id": "FtbFujr7KUTt"
   },
   "outputs": [],
   "source": [
    "# Display the concatenated tensors\n",
    "\n",
    "print(concat0)\n",
    "print(concat1)"
   ]
  },
  {
   "cell_type": "code",
   "execution_count": null,
   "metadata": {
    "id": "M-WVtu8DKUTw"
   },
   "outputs": [],
   "source": [
    "# Create a constant Tensor\n",
    "\n",
    "t = tf.constant(np.arange(24), shape=(3, 2, 4))\n",
    "print(\"\\n t shape: \", t.shape)"
   ]
  },
  {
   "cell_type": "code",
   "execution_count": null,
   "metadata": {
    "id": "RrN4aMQWKUT2"
   },
   "outputs": [],
   "source": [
    "# Expanding the rank of Tensors\n",
    "\n"
   ]
  },
  {
   "cell_type": "code",
   "execution_count": null,
   "metadata": {
    "id": "kB-r55xiKUT5"
   },
   "outputs": [],
   "source": [
    "# Display the shapes after tf.expand_dims\n",
    "\n",
    "print(\"\\n After expanding dims:\\n t1 shape: \", t1.shape, \"\\n t2 shape: \", t2.shape, \"\\n t3 shape: \", t3.shape)"
   ]
  },
  {
   "cell_type": "code",
   "execution_count": null,
   "metadata": {
    "id": "q1zKORaAKUT9"
   },
   "outputs": [],
   "source": [
    "# Squeezing redundant dimensions\n",
    "\n"
   ]
  },
  {
   "cell_type": "code",
   "execution_count": null,
   "metadata": {
    "id": "94Uy3Y5GKUUB"
   },
   "outputs": [],
   "source": [
    "# Display the shapes after tf.squeeze\n",
    "\n",
    "print(\"\\n After squeezing:\\n t1 shape: \", t1.shape, \"\\n t2 shape: \", t2.shape, \"\\n t3 shape: \", t3.shape)"
   ]
  },
  {
   "cell_type": "code",
   "execution_count": null,
   "metadata": {
    "id": "bSnXwk3YKUUE"
   },
   "outputs": [],
   "source": [
    "# Slicing a Tensor\n",
    "\n"
   ]
  },
  {
   "cell_type": "markdown",
   "metadata": {
    "id": "lLnXno5vKUUH"
   },
   "source": [
    "#### Doing maths with Tensors"
   ]
  },
  {
   "cell_type": "code",
   "execution_count": null,
   "metadata": {
    "id": "8cvyLI90KUUH"
   },
   "outputs": [],
   "source": [
    "# Create two constant Tensors\n",
    "\n",
    "c = tf.constant([[1.0, 2.0], [3.0, 4.0]])\n",
    "d = tf.constant([[1.0, 1.0], [0.0, 1.0]])"
   ]
  },
  {
   "cell_type": "code",
   "execution_count": null,
   "metadata": {
    "id": "zOr2CRcYKUUM"
   },
   "outputs": [],
   "source": [
    "# Matrix multiplication\n",
    "\n"
   ]
  },
  {
   "cell_type": "code",
   "execution_count": null,
   "metadata": {
    "id": "MlBvG6UxKUUP"
   },
   "outputs": [],
   "source": [
    "# Display the result\n",
    "\n",
    "print(\"\\n tf.matmul(c,d):\\n\", matmul_cd)"
   ]
  },
  {
   "cell_type": "code",
   "execution_count": null,
   "metadata": {
    "id": "lMJMXHoMKUUR"
   },
   "outputs": [],
   "source": [
    "# Elementwise operations\n",
    "\n"
   ]
  },
  {
   "cell_type": "code",
   "execution_count": null,
   "metadata": {
    "id": "_eoHiulOKUUT"
   },
   "outputs": [],
   "source": [
    "# Display the results\n",
    "\n",
    "print(\"\\n c*d:\\n\", c_times_d)\n",
    "print(\"\\n c+d:\\n\", c_plus_d)\n",
    "print(\"\\n c-d:\\n\", c_minus_d)\n",
    "print(\"\\n c/c:\\n\", c_div_c)"
   ]
  },
  {
   "cell_type": "code",
   "execution_count": null,
   "metadata": {
    "id": "UTjk8RmQKUUV"
   },
   "outputs": [],
   "source": [
    "# Create Tensors\n",
    "\n",
    "a = tf.constant([[2, 3], [3, 3]])\n",
    "b = tf.constant([[8, 7], [2, 3]])\n",
    "x = tf.constant([[-6.89 + 1.78j], [-2.54 + 2.15j]])"
   ]
  },
  {
   "cell_type": "code",
   "execution_count": null,
   "metadata": {
    "id": "5fKpXUAWKUUY"
   },
   "outputs": [],
   "source": [
    "# Absolute value of a Tensor\n",
    "\n"
   ]
  },
  {
   "cell_type": "code",
   "execution_count": null,
   "metadata": {
    "id": "8_slSXaBKUUa"
   },
   "outputs": [],
   "source": [
    "# Power of a Tensor\n",
    "\n"
   ]
  },
  {
   "cell_type": "code",
   "execution_count": null,
   "metadata": {
    "id": "-XlewNGEKUUc"
   },
   "outputs": [],
   "source": [
    "# Display the results\n",
    "\n",
    "print(\"\\n \", absx)\n",
    "print(\"\\n \", powab)"
   ]
  },
  {
   "cell_type": "markdown",
   "metadata": {
    "id": "hT_nP5czKUUe"
   },
   "source": [
    "#### Randomly sampled constant tensors"
   ]
  },
  {
   "cell_type": "code",
   "execution_count": null,
   "metadata": {
    "id": "BCYaFEZpKUUe"
   },
   "outputs": [],
   "source": [
    "# Create a Tensor with samples from a Normal distribution\n",
    "\n"
   ]
  },
  {
   "cell_type": "code",
   "execution_count": null,
   "metadata": {
    "id": "TQuZhEUjKUUi"
   },
   "outputs": [],
   "source": [
    "# Create a Tensor with samples from a Uniform distribution\n",
    "\n"
   ]
  },
  {
   "cell_type": "code",
   "execution_count": null,
   "metadata": {
    "id": "XJfvSj97KUUo"
   },
   "outputs": [],
   "source": [
    "# Create a Tensor with samples from a Poisson distribution\n",
    "\n"
   ]
  },
  {
   "cell_type": "code",
   "execution_count": null,
   "metadata": {
    "id": "CdHl0f_AKUUq"
   },
   "outputs": [],
   "source": [
    "# More maths operations\n",
    "\n",
    "d = tf.square(tn)\n",
    "e = tf.exp(d)\n",
    "f = tf.cos(c)"
   ]
  },
  {
   "cell_type": "markdown",
   "metadata": {
    "id": "P_y5iM-XKUUs"
   },
   "source": [
    "***\n",
    "<a id=\"coding_tutorial_3\"></a>\n",
    "## Accessing model layers"
   ]
  },
  {
   "cell_type": "code",
   "execution_count": null,
   "metadata": {
    "id": "x-XwASmfKUUt"
   },
   "outputs": [],
   "source": [
    "import numpy as np\n",
    "import matplotlib.pyplot as plt\n",
    "%matplotlib inline"
   ]
  },
  {
   "cell_type": "markdown",
   "metadata": {
    "id": "gZ615uKaKUUv"
   },
   "source": [
    "#### Load the pre-trained model"
   ]
  },
  {
   "cell_type": "markdown",
   "metadata": {
    "id": "ZEnVLPANKUUv"
   },
   "source": [
    "In this section, we aim to demonstrate accessing layer attributes within a model.\n",
    "\n",
    "Let's get started by loading the `VGG19` pre-trained model from the `keras.applications` library, which is a very deep network trained on more than a million images from the ImageNet database. The network is trained to classify images into 1000 object categories."
   ]
  },
  {
   "cell_type": "code",
   "execution_count": null,
   "metadata": {
    "id": "_4qCBLtSKUUw"
   },
   "outputs": [],
   "source": [
    "# Load the VGG19 model\n",
    "\n"
   ]
  },
  {
   "cell_type": "code",
   "execution_count": null,
   "metadata": {
    "id": "zFI6-6oJKUUy"
   },
   "outputs": [],
   "source": [
    "# Get the inputs, layers and display the summary\n",
    "\n",
    "vgg_input = vgg_model.input\n",
    "vgg_layers = vgg_model.layers\n",
    "vgg_model.summary()"
   ]
  },
  {
   "cell_type": "markdown",
   "metadata": {
    "id": "yclV6KiFKUU3"
   },
   "source": [
    "#### Build a model to access the layer outputs"
   ]
  },
  {
   "cell_type": "code",
   "execution_count": null,
   "metadata": {
    "id": "Cov4lXwdKUU4"
   },
   "outputs": [],
   "source": [
    "from tensorflow.keras.models import Model"
   ]
  },
  {
   "cell_type": "code",
   "execution_count": null,
   "metadata": {
    "id": "aQsJZr1YKUU6"
   },
   "outputs": [],
   "source": [
    "# Build a model that returns the layer outputs\n",
    "\n"
   ]
  },
  {
   "cell_type": "code",
   "execution_count": null,
   "metadata": {
    "id": "78R_lcAwKUU7",
    "scrolled": true
   },
   "outputs": [],
   "source": [
    "# Plot the model\n",
    "\n"
   ]
  },
  {
   "cell_type": "code",
   "execution_count": null,
   "metadata": {
    "id": "j35hgDZZKUU9"
   },
   "outputs": [],
   "source": [
    "# Test the model on a random input\n",
    "\n"
   ]
  },
  {
   "cell_type": "markdown",
   "metadata": {
    "id": "Ogh9UxE8KUU_"
   },
   "source": [
    "#### Load the 'cool cat' picture"
   ]
  },
  {
   "cell_type": "markdown",
   "metadata": {
    "id": "BUxx2lk0KUU_"
   },
   "source": [
    "In Zambia’s South Luangwa National Park, a photographer had been watching a pride of lions while they slept off a feast from a buffalo kill. When this female walked away, he anticipated that she might be going for a drink and so he positioned his vehicle on the opposite side of the waterhole. The `cool cat` picture is one of the highly commended 2018 Image from Wildlife Photographer of the Year."
   ]
  },
  {
   "cell_type": "markdown",
   "metadata": {
    "id": "rWLD97iOK5ut"
   },
   "source": [
    "#### Import the picture\n",
    "\n",
    "The dataset required for this tutorial can be downloaded from the following link:\n",
    "\n",
    "https://drive.google.com/open?id=1myXpP8QFvhATqg0bPYhCpVS48_OgAC0L\n",
    "\n",
    "You should store this file in Drive for use in this Colab notebook."
   ]
  },
  {
   "cell_type": "code",
   "execution_count": null,
   "metadata": {
    "id": "ylT-Kt65KUVA"
   },
   "outputs": [],
   "source": [
    "# Display the original image\n",
    "\n",
    "import IPython.display as display\n",
    "from PIL import Image\n",
    "\n",
    "display.display(Image.open('path/to/cool_cat.jpg'))"
   ]
  },
  {
   "cell_type": "markdown",
   "metadata": {
    "id": "cMYjnJDIKUVC"
   },
   "source": [
    "#### Visualise network features from the input image"
   ]
  },
  {
   "cell_type": "code",
   "execution_count": null,
   "metadata": {
    "id": "96Z1V9XsKUVD"
   },
   "outputs": [],
   "source": [
    "# Preprocess the image\n",
    "\n",
    "from tensorflow.keras.applications.vgg19 import preprocess_input\n",
    "from tensorflow.keras.preprocessing import image\n",
    "\n",
    "img_path = 'path/to/cool_cat.jpg'\n",
    "img = image.load_img(img_path, target_size=(224, 224))\n",
    "x = image.img_to_array(img)\n",
    "x = np.expand_dims(x, axis=0)\n",
    "x = preprocess_input(x)"
   ]
  },
  {
   "cell_type": "code",
   "execution_count": null,
   "metadata": {
    "id": "Bg74WXDCKUVF"
   },
   "outputs": [],
   "source": [
    "# Extract the features\n",
    "\n"
   ]
  },
  {
   "cell_type": "code",
   "execution_count": null,
   "metadata": {
    "id": "eR_e_HmmKUVH"
   },
   "outputs": [],
   "source": [
    "# Visualise the input channels\n",
    "\n"
   ]
  },
  {
   "cell_type": "code",
   "execution_count": null,
   "metadata": {
    "id": "Ke-6Vpj3KUVI"
   },
   "outputs": [],
   "source": [
    "# Visualise some features in the first hidden layer\n",
    "\n"
   ]
  },
  {
   "cell_type": "code",
   "execution_count": null,
   "metadata": {
    "id": "eTV70KvoKUVK"
   },
   "outputs": [],
   "source": [
    "# Build a model to extract features by layer name\n",
    "\n"
   ]
  },
  {
   "cell_type": "code",
   "execution_count": null,
   "metadata": {
    "id": "WQvb0OuUKUVM"
   },
   "outputs": [],
   "source": [
    "# Visualise some features from the extracted layer output\n",
    "\n"
   ]
  },
  {
   "cell_type": "code",
   "execution_count": null,
   "metadata": {
    "id": "We6poZ7dKUVP"
   },
   "outputs": [],
   "source": [
    "# Extract features from a layer deeper in the network\n",
    "\n"
   ]
  },
  {
   "cell_type": "code",
   "execution_count": null,
   "metadata": {
    "id": "8hOJSdVQKUVR"
   },
   "outputs": [],
   "source": [
    "# Visualise some features from the extracted layer output\n",
    "\n"
   ]
  },
  {
   "cell_type": "markdown",
   "metadata": {
    "id": "0FV766ybKUVS"
   },
   "source": [
    "***\n",
    "<a id=\"coding_tutorial_4\"></a>\n",
    "## Freezing layers"
   ]
  },
  {
   "cell_type": "code",
   "execution_count": null,
   "metadata": {
    "id": "qvMmt0s5KUVS"
   },
   "outputs": [],
   "source": [
    "import numpy as np\n",
    "import matplotlib.pyplot as plt\n",
    "%matplotlib inline"
   ]
  },
  {
   "cell_type": "markdown",
   "metadata": {
    "id": "muJ3y73wKUVU"
   },
   "source": [
    "#### Build the model"
   ]
  },
  {
   "cell_type": "code",
   "execution_count": null,
   "metadata": {
    "id": "a7XUKYHpKUVU"
   },
   "outputs": [],
   "source": [
    "# Build a small Sequential model\n",
    "\n",
    "from tensorflow.keras.models import Sequential\n",
    "from tensorflow.keras import layers\n",
    "\n",
    "model = Sequential([\n",
    "    layers.Dense(4, input_shape=(4,), activation='relu', kernel_initializer='random_uniform',\n",
    "                 bias_initializer='ones'),\n",
    "    layers.Dense(2, activation='relu', kernel_initializer='lecun_normal', bias_initializer='ones'),\n",
    "    layers.Dense(4, activation='softmax'),\n",
    "])"
   ]
  },
  {
   "cell_type": "code",
   "execution_count": null,
   "metadata": {
    "id": "cl9gvwc_KUVV"
   },
   "outputs": [],
   "source": [
    "# Display the model summary\n",
    "\n",
    "model.summary()"
   ]
  },
  {
   "cell_type": "markdown",
   "metadata": {
    "id": "oLZVUklBKUVX"
   },
   "source": [
    "#### Examine the weight matrix variation over training"
   ]
  },
  {
   "cell_type": "code",
   "execution_count": null,
   "metadata": {
    "id": "kLSwnr6IKUVX"
   },
   "outputs": [],
   "source": [
    "# Retrieve the weights and biases\n",
    "\n"
   ]
  },
  {
   "cell_type": "code",
   "execution_count": null,
   "metadata": {
    "id": "vpxvNkMnKUVa"
   },
   "outputs": [],
   "source": [
    "# Construct a synthetic dataset\n",
    "\n",
    "x_train = np.random.random((100, 4))\n",
    "y_train = x_train\n",
    "\n",
    "x_test = np.random.random((20, 4))\n",
    "y_test = x_test"
   ]
  },
  {
   "cell_type": "code",
   "execution_count": null,
   "metadata": {
    "id": "ZTNGzE9-KUVc"
   },
   "outputs": [],
   "source": [
    "# Compile and fit the model\n",
    "\n",
    "model.compile(optimizer='adam',\n",
    "              loss='mse',\n",
    "              metrics=['acc'])\n",
    "\n",
    "model.fit(x_train, y_train, epochs=50, verbose=False);"
   ]
  },
  {
   "cell_type": "code",
   "execution_count": null,
   "metadata": {
    "id": "jjY6rOOkKUVd"
   },
   "outputs": [],
   "source": [
    "# Retrieve weights and biases\n",
    "\n"
   ]
  },
  {
   "cell_type": "code",
   "execution_count": null,
   "metadata": {
    "id": "1ZDHstynKUVe"
   },
   "outputs": [],
   "source": [
    "# Plot the variation\n",
    "\n",
    "plt.figure(figsize=(8,8))\n",
    "for n in range(3):\n",
    "    delta_l = W1_layers[n] - W0_layers[n]\n",
    "    print('Layer '+str(n)+': bias variation: ', np.linalg.norm(b1_layers[n] - b0_layers[n]))\n",
    "    ax = plt.subplot(1,3,n+1)\n",
    "    plt.imshow(delta_l)\n",
    "    plt.title('Layer '+str(n))\n",
    "    plt.axis('off')\n",
    "plt.colorbar()\n",
    "plt.suptitle('Weight matrices variation');"
   ]
  },
  {
   "cell_type": "markdown",
   "metadata": {
    "id": "hrhsfqdwKUVg"
   },
   "source": [
    "#### Freeze layers at build time"
   ]
  },
  {
   "cell_type": "code",
   "execution_count": null,
   "metadata": {
    "id": "xlxrMUF5KUVg"
   },
   "outputs": [],
   "source": [
    "# Count the trainable and non trainable variables before the freezing\n",
    "\n"
   ]
  },
  {
   "cell_type": "code",
   "execution_count": null,
   "metadata": {
    "id": "dNpfvfSXKUVi"
   },
   "outputs": [],
   "source": [
    "# Display the number of trainable and non trainable variables before the freezing\n",
    "\n",
    "print(\"\\n Before freezing:\\n\\t Number of trainable variables: \", n_trainable_variables,\n",
    "                         \"\\n\\t Number of non trainable variables: \", n_non_trainable_variables)"
   ]
  },
  {
   "cell_type": "code",
   "execution_count": null,
   "metadata": {
    "id": "AGpSC4ZAKUVn"
   },
   "outputs": [],
   "source": [
    "# Build the model\n",
    "\n"
   ]
  },
  {
   "cell_type": "code",
   "execution_count": null,
   "metadata": {
    "id": "lWmPkL-pKUVo"
   },
   "outputs": [],
   "source": [
    "# Count the trainable and non trainable variables after the freezing\n",
    "\n"
   ]
  },
  {
   "cell_type": "code",
   "execution_count": null,
   "metadata": {
    "id": "_Bzhnsr7KUVp"
   },
   "outputs": [],
   "source": [
    "# Display the number of trainable and non trainable variables after the freezing\n",
    "\n",
    "print(\"\\n After freezing:\\n\\t Number of trainable variables: \", n_trainable_variables,\n",
    "                         \"\\n\\t Number of non trainable variables: \", n_non_trainable_variables)"
   ]
  },
  {
   "cell_type": "code",
   "execution_count": null,
   "metadata": {
    "id": "Kl6-nIeYKUVr"
   },
   "outputs": [],
   "source": [
    "# Retrieve weights and biases\n",
    "\n"
   ]
  },
  {
   "cell_type": "code",
   "execution_count": null,
   "metadata": {
    "id": "aoOhSvdCKUVs"
   },
   "outputs": [],
   "source": [
    "# Compile and fit the model\n",
    "\n",
    "model.compile(optimizer='adam',\n",
    "              loss='mse',\n",
    "              metrics=['acc'])\n",
    "\n",
    "model.fit(x_train, y_train, epochs=50, verbose=False);"
   ]
  },
  {
   "cell_type": "code",
   "execution_count": null,
   "metadata": {
    "id": "VW2Ij7rGKUVt"
   },
   "outputs": [],
   "source": [
    "# Retrieve weights and biases\n",
    "\n"
   ]
  },
  {
   "cell_type": "code",
   "execution_count": null,
   "metadata": {
    "id": "SJv_yc34KUVv"
   },
   "outputs": [],
   "source": [
    "# Plot the variation\n",
    "\n"
   ]
  },
  {
   "cell_type": "markdown",
   "metadata": {
    "id": "FkbrhuxUKUVw"
   },
   "source": [
    "#### Freeze layers of a pre-built model"
   ]
  },
  {
   "cell_type": "code",
   "execution_count": null,
   "metadata": {
    "id": "1EuSNnI1KUVx"
   },
   "outputs": [],
   "source": [
    "# Count the trainable and non trainable variables before the freezing\n",
    "\n",
    "print(\"\\n Before freezing:\\n\\t Number of trainable variables: \", len(model.trainable_variables),\n",
    "                         \"\\n\\t Number of non trainable variables: \", len(model.non_trainable_variables))"
   ]
  },
  {
   "cell_type": "code",
   "execution_count": null,
   "metadata": {
    "id": "xKISfPTaKUVz"
   },
   "outputs": [],
   "source": [
    "# Freeze the second layer\n",
    "\n"
   ]
  },
  {
   "cell_type": "code",
   "execution_count": null,
   "metadata": {
    "id": "lS1xI65tKUV0"
   },
   "outputs": [],
   "source": [
    "# Count the trainable and non trainable variables after the freezing\n",
    "\n",
    "print(\"\\n After freezing:\\n\\t Number of trainable variables: \", len(model.trainable_variables),\n",
    "                        \"\\n\\t Number of non trainable variables: \", len(model.non_trainable_variables))"
   ]
  },
  {
   "cell_type": "code",
   "execution_count": null,
   "metadata": {
    "id": "e0yk7ZZoKUV3"
   },
   "outputs": [],
   "source": [
    "# Compile and fit the model\n",
    "\n",
    "model.compile(optimizer='adam',\n",
    "              loss='mse',\n",
    "              metrics=['acc'])\n",
    "\n",
    "model.fit(x_train, y_train, epochs=50, verbose=False);"
   ]
  },
  {
   "cell_type": "code",
   "execution_count": null,
   "metadata": {
    "id": "2nlvj0k-KUV4"
   },
   "outputs": [],
   "source": [
    "# Retrieve weights and biases\n",
    "\n"
   ]
  },
  {
   "cell_type": "code",
   "execution_count": null,
   "metadata": {
    "id": "O7LO4ZWvKUV5"
   },
   "outputs": [],
   "source": [
    "# Plot the variation\n",
    "\n"
   ]
  }
 ],
 "metadata": {
  "colab": {
   "collapsed_sections": [
    "Vw_mtaCSKURC",
    "m5zoXn36KURd",
    "FCXImgxwKURi",
    "LogIRCGRKURr",
    "2D5WmZvkKURz",
    "XEKAybugKUSD",
    "9rOpqQVNKUSO",
    "1fn43vXfKUSj",
    "wQunv2imKUTH",
    "lLnXno5vKUUH",
    "hT_nP5czKUUe",
    "gZ615uKaKUUv",
    "yclV6KiFKUU3",
    "cMYjnJDIKUVC"
   ],
   "name": "Coding Tutorial.ipynb",
   "provenance": []
  },
  "kernelspec": {
   "display_name": "Python 3",
   "language": "python",
   "name": "python3"
  },
  "language_info": {
   "codemirror_mode": {
    "name": "ipython",
    "version": 3
   },
   "file_extension": ".py",
   "mimetype": "text/x-python",
   "name": "python",
   "nbconvert_exporter": "python",
   "pygments_lexer": "ipython3",
   "version": "3.7.9"
  }
 },
 "nbformat": 4,
 "nbformat_minor": 4
}
