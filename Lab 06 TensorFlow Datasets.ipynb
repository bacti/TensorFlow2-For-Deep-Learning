{
  "nbformat": 4,
  "nbformat_minor": 0,
  "metadata": {
    "kernelspec": {
      "display_name": "Python 3",
      "language": "python",
      "name": "python3"
    },
    "language_info": {
      "codemirror_mode": {
        "name": "ipython",
        "version": 3
      },
      "file_extension": ".py",
      "mimetype": "text/x-python",
      "name": "python",
      "nbconvert_exporter": "python",
      "pygments_lexer": "ipython3",
      "version": "3.7.1"
    },
    "colab": {
      "name": "TensorFlow Datasets.ipynb",
      "provenance": [],
      "collapsed_sections": []
    }
  },
  "cells": [
    {
      "cell_type": "markdown",
      "metadata": {
        "id": "foeS1tOWS3_R"
      },
      "source": [
        "# TensorFlow Datasets"
      ]
    },
    {
      "cell_type": "markdown",
      "metadata": {
        "id": "nufn0cmRS3_U"
      },
      "source": [
        "In this reading notebook, we will take a look at the `tensorflow-datasets` library.\n",
        "\n",
        "We have previously made use of the `tf.keras.datasets` package, which gave us access to a variety of useful datasets such as the IMDB movie dataset, the CIFAR-100 small image classification dataset, and the MNIST handwritten digits dataset.\n",
        "\n",
        "The `tensorflow-datasets` library gives us another means of accessing a variety of useful datasets."
      ]
    },
    {
      "cell_type": "markdown",
      "metadata": {
        "id": "lS2iKimnS3_W"
      },
      "source": [
        "## Installation\n",
        "The `tensorflow-datasets` library is installed independently of TensorFlow itself. It can be installed using pip, by running the following command in a terminal (assuming that `tensorflow` has already been installed):\n",
        "\n",
        "```pip install tensorflow-datasets ```"
      ]
    },
    {
      "cell_type": "markdown",
      "metadata": {
        "id": "n62afsmtS3_Y"
      },
      "source": [
        "## Listing the Available Datasets\n",
        "The `list_builders` function can be used to  list the available datasets."
      ]
    },
    {
      "cell_type": "code",
      "metadata": {
        "id": "mGSLrLr5Tz_C"
      },
      "source": [
        "! pip install tensorflow==2.1.0"
      ],
      "execution_count": null,
      "outputs": []
    },
    {
      "cell_type": "code",
      "metadata": {
        "id": "N_hy64QAS3_Z"
      },
      "source": [
        "# List available datasets\n",
        "\n",
        "import tensorflow_datasets as tfds\n",
        "\n",
        "tfds.list_builders()"
      ],
      "execution_count": null,
      "outputs": []
    },
    {
      "cell_type": "markdown",
      "metadata": {
        "id": "S2WdBo0nS3_e"
      },
      "source": [
        "## Loading a Dataset\n",
        "\n",
        "Loading a particular dataset is straightforward; simply use the `load` function, specifying the `name` and any other keyword arguments. In the example code below, we demonstrate how to load the `kmnist` dataset using the function.\n",
        "\n",
        "As stated on the documentation page, running the function with `split=None` (the default) returns a dictionary of the splits, with the keys `test` and `train`."
      ]
    },
    {
      "cell_type": "code",
      "metadata": {
        "id": "vi3dORwiS3_f"
      },
      "source": [
        "# Load the mnist_corrupted dataset\n",
        "\n",
        "kmnist  = tfds.load(name=\"kmnist\", split=None)\n",
        "kmnist_train = kmnist['train']\n",
        "kmnist_test = kmnist['test']"
      ],
      "execution_count": null,
      "outputs": []
    },
    {
      "cell_type": "code",
      "metadata": {
        "id": "ZGpug34nS3_j"
      },
      "source": [
        "# View some examples from the dataset\n",
        "\n",
        "import matplotlib.pyplot as plt\n",
        "%matplotlib inline\n",
        "import tensorflow as tf\n",
        "\n",
        "fig, axes = plt.subplots(3, 3, figsize=(8, 8))\n",
        "fig.subplots_adjust(hspace=0.2, wspace=0.1)\n",
        "\n",
        "for i, (elem, ax) in enumerate(zip(kmnist_train, axes.flat)):\n",
        "    image = tf.squeeze(elem['image'])\n",
        "    label = elem['label']\n",
        "    \n",
        "    ax.imshow(image, cmap='gray')\n",
        "    ax.text(0.7, -0.12, f'Digit = {label}', ha='right',\n",
        "            transform=ax.transAxes, color='black')\n",
        "    ax.set_xticks([])\n",
        "    ax.set_yticks([])"
      ],
      "execution_count": null,
      "outputs": []
    },
    {
      "cell_type": "markdown",
      "metadata": {
        "id": "Zlsxm19aS3_n"
      },
      "source": [
        "## Further reading and resources\n",
        "* https://www.tensorflow.org/datasets\n",
        "* https://www.tensorflow.org/datasets/catalog/overview\n",
        "* https://wwww.tensorflow.org/datasets/api_docs/python/tfds\n",
        "* https://tensorflow.org/datasets/api_docs/python/tfds/load"
      ]
    }
  ]
}