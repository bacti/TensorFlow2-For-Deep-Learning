{
 "cells": [
  {
   "cell_type": "markdown",
   "metadata": {},
   "source": [
    "# Layer nodes\n",
    "In this reading, we will be looking at the concept of layer nodes when creating a computational graph with shared layers."
   ]
  },
  {
   "cell_type": "code",
   "execution_count": null,
   "metadata": {},
   "outputs": [],
   "source": [
    "import tensorflow as tf\n",
    "print(tf.__version__)"
   ]
  },
  {
   "cell_type": "markdown",
   "metadata": {},
   "source": [
    "## Creating a simple computational graph"
   ]
  },
  {
   "cell_type": "markdown",
   "metadata": {},
   "source": [
    "You have previously seen how to construct multiple input or output models, and also how to access model layers. Let's start by creating two inputs:"
   ]
  },
  {
   "cell_type": "code",
   "execution_count": null,
   "metadata": {},
   "outputs": [],
   "source": [
    "# Create the input layers\n",
    "\n",
    "from tensorflow.keras.layers import Input\n",
    "\n",
    "a = Input(shape=(128, 128, 3), name=\"input_a\")\n",
    "b = Input(shape=(64, 64, 3), name=\"input_b\")"
   ]
  },
  {
   "cell_type": "markdown",
   "metadata": {},
   "source": [
    "Now, we create a 2D convolutional layer, and call it on one of the inputs."
   ]
  },
  {
   "cell_type": "code",
   "execution_count": null,
   "metadata": {},
   "outputs": [],
   "source": [
    "# Create and use the convolutional layer\n",
    "\n",
    "from tensorflow.keras.layers import Conv2D\n",
    "\n",
    "conv = Conv2D(32, (6, 6), padding='same')\n",
    "conv_out_a = conv(a)\n",
    "print(type(conv_out_a))"
   ]
  },
  {
   "cell_type": "markdown",
   "metadata": {},
   "source": [
    "The output of the layer is now a new Tensor, which captures the operation of calling the layer `conv` on the input `a`.\n",
    "\n",
    "By defining this new operation in our computational graph, we have added a _node_ to the `conv` layer. This node relates the input tensor to the output tensor."
   ]
  },
  {
   "cell_type": "markdown",
   "metadata": {},
   "source": [
    "### Layer input and outputs"
   ]
  },
  {
   "cell_type": "markdown",
   "metadata": {},
   "source": [
    "We can retrieve the output of a layer using the `output` attribute, and we can also get the input by using the `input` attribute. \n",
    "\n",
    "Similarly, we can retrieve the input/output shape using `input_shape` and `output_shape`."
   ]
  },
  {
   "cell_type": "code",
   "execution_count": null,
   "metadata": {},
   "outputs": [],
   "source": [
    "# Print the input and output tensors\n",
    "\n",
    "print(conv.input)\n",
    "print(conv.output)"
   ]
  },
  {
   "cell_type": "code",
   "execution_count": null,
   "metadata": {},
   "outputs": [],
   "source": [
    "# Verify the input and output shapes\n",
    "\n",
    "assert conv.input_shape == (None, 128, 128, 3)\n",
    "assert conv.output_shape == (None, 128, 128, 32)"
   ]
  },
  {
   "cell_type": "markdown",
   "metadata": {},
   "source": [
    "## Creating a new layer node"
   ]
  },
  {
   "cell_type": "markdown",
   "metadata": {},
   "source": [
    "Now, let's call this layer again on a different input:"
   ]
  },
  {
   "cell_type": "code",
   "execution_count": null,
   "metadata": {},
   "outputs": [],
   "source": [
    "# Call the layer a second time\n",
    "\n",
    "conv_out_b = conv(b)"
   ]
  },
  {
   "cell_type": "markdown",
   "metadata": {},
   "source": [
    "When we call the same layer multiple times, that layer owns multiple nodes indexed as 0, 1, 2...\n",
    "\n",
    "Now, what happens if we call `input` and `output` for this layer?"
   ]
  },
  {
   "cell_type": "code",
   "execution_count": null,
   "metadata": {},
   "outputs": [],
   "source": [
    "# Check the input and output attributes\n",
    "\n",
    "assert conv.input.name == a.name\n",
    "assert conv.output.name == conv_out_a.name"
   ]
  },
  {
   "cell_type": "markdown",
   "metadata": {},
   "source": [
    "As you can see, the layer's input is identified as being `a` and its output as being `conved_a`, something is going wrong here. As long as a layer is only connected to one input, there is no confusion about what should be the input, and `.output` will return the one output of the layer, but when the layer is called on multiple inputs we end up in an ambiguous situation.\n",
    "\n",
    "Let's try to get the input/output shape:"
   ]
  },
  {
   "cell_type": "code",
   "execution_count": null,
   "metadata": {},
   "outputs": [],
   "source": [
    "# Try accessing the input_shape\n",
    "\n",
    "print(conv.input_shape)"
   ]
  },
  {
   "cell_type": "code",
   "execution_count": null,
   "metadata": {},
   "outputs": [],
   "source": [
    "# Try accessing the output_shape\n",
    "\n",
    "print(conv.output_shape)"
   ]
  },
  {
   "cell_type": "markdown",
   "metadata": {},
   "source": [
    "`input_shape` and `output_shape` did not return the shape of the two inputs and outputs, instead they returned an error."
   ]
  },
  {
   "cell_type": "markdown",
   "metadata": {},
   "source": [
    "### Indexing layer nodes"
   ]
  },
  {
   "cell_type": "markdown",
   "metadata": {},
   "source": [
    "We have applied the same Conv2D layer to an input of shape (128, 128, 3), and then to an input of shape (64, 64, 3), therefore the layer has multiple input/output shapes, for this reason we now have to retrieve them by specifying the index of the node they belong to.\n",
    "\n",
    "To get the inputs/outputs shapes, we now have to use `get_input_shape_at` and `get_output_shape_at` with the correct index:"
   ]
  },
  {
   "cell_type": "code",
   "execution_count": null,
   "metadata": {},
   "outputs": [],
   "source": [
    "# Print the input and output shapes for each layer node\n",
    "\n",
    "assert conv.get_input_shape_at(0) == (None, 128, 128, 3)  # Tensor a\n",
    "assert conv.get_input_shape_at(1) == (None, 64, 64, 3)  # Tensor b\n",
    "\n",
    "assert conv.get_output_shape_at(0) == (None, 128, 128, 32)  # Tensor conv_out_a\n",
    "assert conv.get_output_shape_at(1) == (None, 64, 64, 32)  # Tensor conv_out_b"
   ]
  },
  {
   "cell_type": "markdown",
   "metadata": {},
   "source": [
    "Likewise, we use `get_input_at` and `get_output_at` to fetch the inputs/outputs:"
   ]
  },
  {
   "cell_type": "code",
   "execution_count": null,
   "metadata": {},
   "outputs": [],
   "source": [
    "assert conv.get_input_at(0).name == a.name\n",
    "assert conv.get_input_at(1).name == b.name\n",
    "\n",
    "assert conv.get_output_at(0).name == conv_out_a.name\n",
    "assert conv.get_output_at(1).name == conv_out_b.name"
   ]
  },
  {
   "cell_type": "markdown",
   "metadata": {},
   "source": [
    "## Further reading and resources \n",
    "* https://keras.io/getting-started/functional-api-guide/#the-concept-of-layer-node"
   ]
  }
 ],
 "metadata": {
  "kernelspec": {
   "display_name": "Python 3",
   "language": "python",
   "name": "python3"
  },
  "language_info": {
   "codemirror_mode": {
    "name": "ipython",
    "version": 3
   },
   "file_extension": ".py",
   "mimetype": "text/x-python",
   "name": "python",
   "nbconvert_exporter": "python",
   "pygments_lexer": "ipython3",
   "version": "3.7.1"
  }
 },
 "nbformat": 4,
 "nbformat_minor": 2
}
