{
 "cells": [
  {
   "cell_type": "markdown",
   "metadata": {},
   "source": [
    "# Capstone Project\n",
    "## Neural translation model\n",
    "### Instructions\n",
    "\n",
    "In this notebook, you will create a neural network that translates from English to German. You will use concepts from throughout this course, including building more flexible model architectures, freezing layers, data processing pipeline and sequence modelling.\n",
    "\n",
    "This project is peer-assessed. Within this notebook you will find instructions in each section for how to complete the project. Pay close attention to the instructions as the peer review will be carried out according to a grading rubric that checks key parts of the project instructions. Feel free to add extra cells into the notebook as required.\n",
    "\n",
    "### How to submit\n",
    "\n",
    "When you have completed the Capstone project notebook, you will submit a pdf of the notebook for peer review. First ensure that the notebook has been fully executed from beginning to end, and all of the cell outputs are visible. This is important, as the grading rubric depends on the reviewer being able to view the outputs of your notebook. Save the notebook as a pdf (File -> Download as -> PDF via LaTeX). You should then submit this pdf for review.\n",
    "\n",
    "### Let's get started!\n",
    "\n",
    "We'll start by running some imports, and loading the dataset. For this project you are free to make further imports throughout the notebook as you wish. "
   ]
  },
  {
   "cell_type": "code",
   "execution_count": 1,
   "metadata": {},
   "outputs": [],
   "source": [
    "import tensorflow as tf\n",
    "import tensorflow_hub as hub\n",
    "import numpy as np\n",
    "import matplotlib.pyplot as plt\n",
    "import unicodedata\n",
    "import re\n",
    "\n",
    "from tensorflow.keras.layers import Layer, Input, Masking, Embedding, LSTM, Dense\n",
    "from tensorflow.keras.models import Model\n",
    "from tensorflow.keras.preprocessing.text import Tokenizer\n",
    "from tensorflow.keras.preprocessing.sequence import pad_sequences\n",
    "from tensorflow.data import Dataset\n",
    "from sklearn.model_selection import train_test_split\n",
    "from numpy.random import default_rng\n",
    "rng = default_rng(1204)\n",
    "padding_value = 1204"
   ]
  },
  {
   "cell_type": "markdown",
   "metadata": {},
   "source": [
    "![Flags overview image](data/germany_uk_flags.png)\n",
    "\n",
    "For the capstone project, you will use a language dataset from http://www.manythings.org/anki/ to build a neural translation model. This dataset consists of over 200,000 pairs of sentences in English and German. In order to make the training quicker, we will restrict to our dataset to 20,000 pairs. Feel free to change this if you wish - the size of the dataset used is not part of the grading rubric.\n",
    "\n",
    "Your goal is to develop a neural translation model from English to German, making use of a pre-trained English word embedding module."
   ]
  },
  {
   "cell_type": "code",
   "execution_count": 2,
   "metadata": {},
   "outputs": [],
   "source": [
    "# Run this cell to load the dataset\n",
    "NUM_EXAMPLES = 1000\n",
    "data_examples = []\n",
    "with open('data/deu.txt', 'r', encoding = 'utf8') as f:\n",
    "    for line in f.readlines():\n",
    "        if len(data_examples) < NUM_EXAMPLES:\n",
    "            data_examples.append(line)\n",
    "        else:\n",
    "            break"
   ]
  },
  {
   "cell_type": "code",
   "execution_count": 3,
   "metadata": {},
   "outputs": [],
   "source": [
    "# These functions preprocess English and German sentences\n",
    "\n",
    "def unicode_to_ascii(s):\n",
    "    return ''.join(c for c in unicodedata.normalize('NFD', s) if unicodedata.category(c) != 'Mn')\n",
    "\n",
    "def preprocess_sentence(sentence):\n",
    "    sentence = sentence.lower().strip()\n",
    "    sentence = re.sub(r\"ü\", 'ue', sentence)\n",
    "    sentence = re.sub(r\"ä\", 'ae', sentence)\n",
    "    sentence = re.sub(r\"ö\", 'oe', sentence)\n",
    "    sentence = re.sub(r'ß', 'ss', sentence)\n",
    "    \n",
    "    sentence = unicode_to_ascii(sentence)\n",
    "    sentence = re.sub(r\"([?.!,])\", r\" \\1 \", sentence)\n",
    "    sentence = re.sub(r\"[^a-z?.!,']+\", \" \", sentence)\n",
    "    sentence = re.sub(r'[\" \"]+', \" \", sentence)\n",
    "    \n",
    "    return sentence.strip()"
   ]
  },
  {
   "cell_type": "markdown",
   "metadata": {},
   "source": [
    "#### The custom translation model\n",
    "The following is a schematic of the custom translation model architecture you will develop in this project.\n",
    "\n",
    "![Model Schematic](data/neural_translation_model.png)\n",
    "\n",
    "Key:\n",
    "![Model key](data/neural_translation_model_key.png)\n",
    "\n",
    "The custom model consists of an encoder RNN and a decoder RNN. The encoder takes words of an English sentence as input, and uses a pre-trained word embedding to embed the words into a 128-dimensional space. To indicate the end of the input sentence, a special end token (in the same 128-dimensional space) is passed in as an input. This token is a TensorFlow Variable that is learned in the training phase (unlike the pre-trained word embedding, which is frozen).\n",
    "\n",
    "The decoder RNN takes the internal state of the encoder network as its initial state. A start token is passed in as the first input, which is embedded using a learned German word embedding. The decoder RNN then makes a prediction for the next German word, which during inference is then passed in as the following input, and this process is repeated until the special `<end>` token is emitted from the decoder."
   ]
  },
  {
   "cell_type": "markdown",
   "metadata": {},
   "source": [
    "## 1. Text preprocessing\n",
    "\n",
    "Create separate lists of English and German sentences, and preprocess them using the `preprocess_sentence` function provided for you above.\n",
    "\n",
    "Add a special `\"<start>\"` and `\"<end>\"` token to the beginning and end of every German sentence."
   ]
  },
  {
   "cell_type": "code",
   "execution_count": 4,
   "metadata": {
    "scrolled": true
   },
   "outputs": [],
   "source": [
    "sentences = tf.strings.split(input = data_examples, sep = '\\t')\n",
    "english_sentences = np.array ([\n",
    "    preprocess_sentence(y[0].numpy().decode('utf-8'))\n",
    "    for y in sentences[:, 0:1]\n",
    "])\n",
    "german_sentences = np.array ([\n",
    "    '<start> ' + preprocess_sentence(y[0].numpy().decode('utf-8')) + ' <end>'\n",
    "    for y in sentences[:, 1:2]\n",
    "])"
   ]
  },
  {
   "cell_type": "markdown",
   "metadata": {},
   "source": [
    "Use the Tokenizer class from the `tf.keras.preprocessing.text` module to tokenize the German sentences, ensuring that no character filters are applied. _Hint: use the Tokenizer's \"filter\" keyword argument._"
   ]
  },
  {
   "cell_type": "code",
   "execution_count": 5,
   "metadata": {},
   "outputs": [],
   "source": [
    "tokenizer = Tokenizer(filters = '')\n",
    "tokenizer.fit_on_texts(german_sentences)"
   ]
  },
  {
   "cell_type": "markdown",
   "metadata": {},
   "source": [
    "Print out at least 5 randomly chosen examples of (preprocessed) English and German sentence pairs. For the German sentence, print out the text (with start and end tokens) as well as the tokenized sequence."
   ]
  },
  {
   "cell_type": "code",
   "execution_count": 6,
   "metadata": {},
   "outputs": [
    {
     "data": {
      "text/plain": [
       "[(\"i'm happy .\", '<start> ich bin froh . <end>', [1, 5, 9, 565, 3, 2]),\n",
       " ('let us go .', '<start> lass uns gehen . <end>', [1, 39, 19, 25, 3, 2]),\n",
       " ('hug tom .', '<start> umarmen sie tom ! <end>', [1, 356, 8, 7, 4, 2]),\n",
       " (\"i'm happy .\", '<start> ich bin gluecklich . <end>', [1, 5, 9, 564, 3, 2]),\n",
       " ('i lied .', '<start> ich habe gelogen . <end>', [1, 5, 13, 191, 3, 2])]"
      ]
     },
     "execution_count": 6,
     "metadata": {},
     "output_type": "execute_result"
    }
   ],
   "source": [
    "idx = rng.choice(NUM_EXAMPLES, size = 5, replace = False)\n",
    "german_chunks  = np.array(tokenizer.texts_to_sequences(german_sentences), dtype = 'object')\n",
    "list (\n",
    "    zip (\n",
    "        english_sentences[idx],\n",
    "        german_sentences[idx],\n",
    "        german_chunks[idx]\n",
    "    )\n",
    ")"
   ]
  },
  {
   "cell_type": "markdown",
   "metadata": {},
   "source": [
    "Pad the end of the tokenized German sequences with zeros, and batch the complete set of sequences into one numpy array."
   ]
  },
  {
   "cell_type": "code",
   "execution_count": 7,
   "metadata": {},
   "outputs": [
    {
     "data": {
      "text/plain": [
       "(array([[  1,  94,   4, ...,   0,   0,   0],\n",
       "        [  1, 313, 314, ...,   0,   0,   0],\n",
       "        [  1, 179,   4, ...,   0,   0,   0],\n",
       "        ...,\n",
       "        [  1,  45,   5, ...,   0,   0,   0],\n",
       "        [  1, 247,   5, ...,   0,   0,   0],\n",
       "        [  1,  45,   5, ...,   0,   0,   0]], dtype=int32),\n",
       " (1000, 10))"
      ]
     },
     "execution_count": 7,
     "metadata": {},
     "output_type": "execute_result"
    }
   ],
   "source": [
    "german_sequences = pad_sequences(german_chunks, padding = 'post', value = 0)\n",
    "german_sequences, german_sequences.shape"
   ]
  },
  {
   "cell_type": "markdown",
   "metadata": {},
   "source": [
    "## 2. Prepare the data with tf.data.Dataset objects"
   ]
  },
  {
   "cell_type": "markdown",
   "metadata": {},
   "source": [
    "#### Load the embedding layer\n",
    "As part of the dataset preproceessing for this project, you will use a pre-trained English word embedding module from TensorFlow Hub. The URL for the module is https://tfhub.dev/google/tf2-preview/nnlm-en-dim128-with-normalization/1. This module has also been made available as a complete saved model in the folder `'./models/tf2-preview_nnlm-en-dim128_1'`. \n",
    "\n",
    "This embedding takes a batch of text tokens in a 1-D tensor of strings as input. It then embeds the separate tokens into a 128-dimensional space. \n",
    "\n",
    "The code to load and test the embedding layer is provided for you below.\n",
    "\n",
    "**NB:** this model can also be used as a sentence embedding module. The module will process each token by removing punctuation and splitting on spaces. It then averages the word embeddings over a sentence to give a single embedding vector. However, we will use it only as a word embedding module, and will pass each word in the input sentence as a separate token."
   ]
  },
  {
   "cell_type": "code",
   "execution_count": 8,
   "metadata": {},
   "outputs": [],
   "source": [
    "# Load embedding module from Tensorflow Hub\n",
    "embedding_layer = hub.KerasLayer (\n",
    "    'https://tfhub.dev/google/tf2-preview/nnlm-en-dim128/1',\n",
    "    output_shape = [128], input_shape = [], dtype = tf.string\n",
    ")"
   ]
  },
  {
   "cell_type": "code",
   "execution_count": 9,
   "metadata": {},
   "outputs": [
    {
     "data": {
      "text/plain": [
       "TensorShape([7, 128])"
      ]
     },
     "execution_count": 9,
     "metadata": {},
     "output_type": "execute_result"
    }
   ],
   "source": [
    "# Test the layer\n",
    "embedding_layer(tf.constant([\"these\", \"aren't\", \"the\", \"droids\", \"you're\", \"looking\", \"for\"])).shape"
   ]
  },
  {
   "cell_type": "markdown",
   "metadata": {},
   "source": [
    "Create a random training and validation set split of the data, reserving e.g. 20% of the data for validation (NB: each English dataset example is a single sentence string, and each German dataset example is a sequence of padded integer tokens)."
   ]
  },
  {
   "cell_type": "code",
   "execution_count": 10,
   "metadata": {},
   "outputs": [],
   "source": [
    "X_train, X_test, Y_train, Y_test = \\\n",
    "    train_test_split(english_sentences, german_sequences, test_size = 0.2)"
   ]
  },
  {
   "cell_type": "markdown",
   "metadata": {},
   "source": [
    "Load the training and validation sets into a tf.data.Dataset object, passing in a tuple of English and German data for both training and validation sets."
   ]
  },
  {
   "cell_type": "code",
   "execution_count": 11,
   "metadata": {},
   "outputs": [],
   "source": [
    "training_dataset = Dataset.from_tensor_slices(tensors = (X_train, Y_train))\n",
    "validation_dataset = Dataset.from_tensor_slices(tensors = (X_test, Y_test))"
   ]
  },
  {
   "cell_type": "markdown",
   "metadata": {},
   "source": [
    "Create a function to map over the datasets that splits each English sentence at spaces. Apply this function to both Dataset objects using the map method. _Hint: look at the tf.strings.split function._"
   ]
  },
  {
   "cell_type": "code",
   "execution_count": 12,
   "metadata": {},
   "outputs": [],
   "source": [
    "split_func = lambda x, y: (tf.strings.split(x), y)\n",
    "training_dataset = training_dataset.map(split_func)\n",
    "validation_dataset = validation_dataset.map(split_func)"
   ]
  },
  {
   "cell_type": "markdown",
   "metadata": {},
   "source": [
    "Create a function to map over the datasets that embeds each sequence of English words using the loaded embedding layer/model. Apply this function to both Dataset objects using the map method."
   ]
  },
  {
   "cell_type": "code",
   "execution_count": 13,
   "metadata": {},
   "outputs": [],
   "source": [
    "embedding_func = lambda x, y: (embedding_layer(x), y)\n",
    "training_dataset = training_dataset.map(embedding_func)\n",
    "validation_dataset = validation_dataset.map(embedding_func)"
   ]
  },
  {
   "cell_type": "markdown",
   "metadata": {},
   "source": [
    "Create a function to filter out dataset examples where the English sentence is more than 13 (embedded) tokens in length. Apply this function to both Dataset objects using the filter method."
   ]
  },
  {
   "cell_type": "code",
   "execution_count": 14,
   "metadata": {},
   "outputs": [],
   "source": [
    "filter_func = lambda x, y: len(x) <= 13\n",
    "training_dataset = training_dataset.filter(filter_func)\n",
    "validation_dataset = validation_dataset.filter(filter_func)"
   ]
  },
  {
   "cell_type": "markdown",
   "metadata": {},
   "source": [
    "Create a function to map over the datasets that pads each English sequence of embeddings with some distinct padding value before the sequence, so that each sequence is length 13. Apply this function to both Dataset objects using the map method. _Hint: look at the tf.pad function. You can extract a Tensor shape using tf.shape; you might also find the tf.math.maximum function useful._"
   ]
  },
  {
   "cell_type": "code",
   "execution_count": 15,
   "metadata": {},
   "outputs": [],
   "source": [
    "padding_func = lambda x, y: \\\n",
    "    (tf.pad(x, paddings = [[13 - len(x), 0], [0, 0]], constant_values = padding_value), y)\n",
    "training_dataset = training_dataset.map(padding_func)\n",
    "validation_dataset = validation_dataset.map(padding_func)"
   ]
  },
  {
   "cell_type": "markdown",
   "metadata": {},
   "source": [
    "Batch both training and validation Datasets with a batch size of 16."
   ]
  },
  {
   "cell_type": "code",
   "execution_count": 16,
   "metadata": {},
   "outputs": [],
   "source": [
    "training_dataset = training_dataset.batch(16)\n",
    "validation_dataset = validation_dataset.batch(16)"
   ]
  },
  {
   "cell_type": "markdown",
   "metadata": {},
   "source": [
    "Print the `element_spec` property for the training and validation Datasets."
   ]
  },
  {
   "cell_type": "code",
   "execution_count": 17,
   "metadata": {},
   "outputs": [
    {
     "data": {
      "text/plain": [
       "((TensorSpec(shape=(None, None, 128), dtype=tf.float32, name=None),\n",
       "  TensorSpec(shape=(None, 10), dtype=tf.int32, name=None)),\n",
       " (TensorSpec(shape=(None, None, 128), dtype=tf.float32, name=None),\n",
       "  TensorSpec(shape=(None, 10), dtype=tf.int32, name=None)))"
      ]
     },
     "execution_count": 17,
     "metadata": {},
     "output_type": "execute_result"
    }
   ],
   "source": [
    "training_dataset.element_spec, validation_dataset.element_spec"
   ]
  },
  {
   "cell_type": "markdown",
   "metadata": {},
   "source": [
    "Using the Dataset `.take(1)` method, print the shape of the English data example from the training Dataset."
   ]
  },
  {
   "cell_type": "code",
   "execution_count": 18,
   "metadata": {},
   "outputs": [
    {
     "data": {
      "text/plain": [
       "[TensorShape([16, 13, 128])]"
      ]
     },
     "execution_count": 18,
     "metadata": {},
     "output_type": "execute_result"
    }
   ],
   "source": [
    "[x.shape for x, y in training_dataset.take(1)]"
   ]
  },
  {
   "cell_type": "markdown",
   "metadata": {},
   "source": [
    "Using the Dataset `.take(1)` method, print the German data example Tensor from the validation Dataset."
   ]
  },
  {
   "cell_type": "code",
   "execution_count": 19,
   "metadata": {},
   "outputs": [
    {
     "data": {
      "text/plain": [
       "[<tf.Tensor: shape=(16, 10), dtype=int32, numpy=\n",
       " array([[  1, 268,   8,  56,   3,   2,   0,   0,   0,   0],\n",
       "        [  1,  18,  59,   6,   3,   2,   0,   0,   0,   0],\n",
       "        [  1,  80,  26,   4,   2,   0,   0,   0,   0,   0],\n",
       "        [  1,   5, 184,  49,   4,   2,   0,   0,   0,   0],\n",
       "        [  1,   6,  10, 110,   3,   2,   0,   0,   0,   0],\n",
       "        [  1,  48,  12,   4,   2,   0,   0,   0,   0,   0],\n",
       "        [  1,   5,   9,  20, 203,   3,   2,   0,   0,   0],\n",
       "        [  1,  34, 677,   3,   2,   0,   0,   0,   0,   0],\n",
       "        [  1, 221,  11,   2,   0,   0,   0,   0,   0,   0],\n",
       "        [  1,  57,   6, 175,  38,   3,   2,   0,   0,   0],\n",
       "        [  1,  54,   8,  29,   3,   2,   0,   0,   0,   0],\n",
       "        [  1, 133, 209,   3,   2,   0,   0,   0,   0,   0],\n",
       "        [  1,  17,  12,  71,  72,   4,   2,   0,   0,   0],\n",
       "        [  1,  47,  30,  40, 134, 329,   4,   2,   0,   0],\n",
       "        [  1,   9,   5, 686,  11,   2,   0,   0,   0,   0],\n",
       "        [  1,   5, 400,   3,   2,   0,   0,   0,   0,   0]], dtype=int32)>]"
      ]
     },
     "execution_count": 19,
     "metadata": {},
     "output_type": "execute_result"
    }
   ],
   "source": [
    "[y for x, y in validation_dataset.take(1)]"
   ]
  },
  {
   "cell_type": "markdown",
   "metadata": {},
   "source": [
    "## 3. Create the custom layer\n",
    "You will now create a custom layer to add the learned end token embedding to the encoder model:\n",
    "\n",
    "![Encoder schematic](data/neural_translation_model_encoder.png)"
   ]
  },
  {
   "cell_type": "markdown",
   "metadata": {},
   "source": [
    "You should now build the custom layer.\n",
    "\n",
    "Using layer subclassing, create a custom layer that takes a batch of English data examples from one of the Datasets, and adds a learned embedded ‘end’ token to the end of each sequence.\n",
    "\n",
    "This layer should create a TensorFlow Variable (that will be learned during training) that is 128-dimensional (the size of the embedding space). _Hint: you may find it helpful in the call method to use the tf.tile function to replicate the end token embedding across every element in the batch._"
   ]
  },
  {
   "cell_type": "code",
   "execution_count": 20,
   "metadata": {},
   "outputs": [],
   "source": [
    "class MyLayer(Layer):\n",
    "\n",
    "    def __init__(self, **kwargs):\n",
    "        super(MyLayer, self).__init__(**kwargs)\n",
    "\n",
    "    def build(self, inputs):\n",
    "        self.ending = tf.Variable(initial_value = tf.zeros(shape = (1, inputs[-1])))\n",
    "\n",
    "    def call(self, inputs):\n",
    "        ending = self.ending\n",
    "        ending = tf.tile(ending, [tf.shape(inputs)[0], 1])\n",
    "        ending = tf.expand_dims(ending, axis = 1)\n",
    "        return tf.concat(values = [inputs, ending], axis = 1)\n"
   ]
  },
  {
   "cell_type": "markdown",
   "metadata": {},
   "source": [
    "Using the Dataset `.take(1)` method, extract a batch of English data examples from the training Dataset and print the shape. Test the custom layer by calling the layer on the English data batch Tensor and print the resulting Tensor shape (the layer should increase the sequence length by one)."
   ]
  },
  {
   "cell_type": "code",
   "execution_count": 21,
   "metadata": {},
   "outputs": [
    {
     "data": {
      "text/plain": [
       "TensorShape([16, 13, 128])"
      ]
     },
     "execution_count": 21,
     "metadata": {},
     "output_type": "execute_result"
    }
   ],
   "source": [
    "[train_sample] = [x for x, y in training_dataset.take(1)]\n",
    "train_sample.shape"
   ]
  },
  {
   "cell_type": "code",
   "execution_count": 22,
   "metadata": {},
   "outputs": [
    {
     "data": {
      "text/plain": [
       "TensorShape([16, 14, 128])"
      ]
     },
     "execution_count": 22,
     "metadata": {},
     "output_type": "execute_result"
    }
   ],
   "source": [
    "MyLayer()(train_sample).shape"
   ]
  },
  {
   "cell_type": "markdown",
   "metadata": {},
   "source": [
    "## 4. Build the encoder network\n",
    "The encoder network follows the schematic diagram above. You should now build the RNN encoder model.\n",
    "\n",
    "Using the functional API, build the encoder network according to the following spec:\n",
    "\n",
    "* The model will take a batch of sequences of embedded English words as input, as given by the Dataset objects.\n",
    "\n",
    "* The next layer in the encoder will be the custom layer you created previously, to add a learned end token embedding to the end of the English sequence.\n",
    "\n",
    "* This is followed by a Masking layer, with the `mask_value` set to the distinct padding value you used when you padded the English sequences with the Dataset preprocessing above.\n",
    "\n",
    "* The final layer is an LSTM layer with 512 units, which also returns the hidden and cell states.\n",
    "\n",
    "* The encoder is a multi-output model. There should be two output Tensors of this model: the hidden state and cell states of the LSTM layer. The output of the LSTM layer is unused.\n"
   ]
  },
  {
   "cell_type": "code",
   "execution_count": 23,
   "metadata": {},
   "outputs": [],
   "source": [
    "inputs = Input(batch_shape = (None, 13, 128))\n",
    "h = MyLayer()(inputs)\n",
    "h = Masking(mask_value = padding_value)(h)\n",
    "h, hidden_state, cell_state = LSTM(units = 512, return_state = True)(h)\n",
    "encoder = Model(inputs = inputs, outputs = [hidden_state, cell_state])"
   ]
  },
  {
   "cell_type": "markdown",
   "metadata": {},
   "source": [
    "Using the Dataset `.take(1)` method, extract a batch of English data examples from the training Dataset and test the encoder model by calling it on the English data Tensor, and print the shape of the resulting Tensor outputs."
   ]
  },
  {
   "cell_type": "code",
   "execution_count": 24,
   "metadata": {},
   "outputs": [
    {
     "data": {
      "text/plain": [
       "(TensorShape([16, 512]), TensorShape([16, 512]))"
      ]
     },
     "execution_count": 24,
     "metadata": {},
     "output_type": "execute_result"
    }
   ],
   "source": [
    "[hidden_state, cell_state] = encoder(train_sample)\n",
    "hidden_state.shape, cell_state.shape"
   ]
  },
  {
   "cell_type": "markdown",
   "metadata": {},
   "source": [
    "Print the model summary for the encoder network."
   ]
  },
  {
   "cell_type": "code",
   "execution_count": 25,
   "metadata": {},
   "outputs": [
    {
     "name": "stdout",
     "output_type": "stream",
     "text": [
      "Model: \"model\"\n",
      "_________________________________________________________________\n",
      "Layer (type)                 Output Shape              Param #   \n",
      "=================================================================\n",
      "input_1 (InputLayer)         [(None, 13, 128)]         0         \n",
      "_________________________________________________________________\n",
      "my_layer_1 (MyLayer)         (None, 14, 128)           128       \n",
      "_________________________________________________________________\n",
      "masking (Masking)            (None, 14, 128)           0         \n",
      "_________________________________________________________________\n",
      "lstm (LSTM)                  [(None, 512), (None, 512) 1312768   \n",
      "=================================================================\n",
      "Total params: 1,312,896\n",
      "Trainable params: 1,312,896\n",
      "Non-trainable params: 0\n",
      "_________________________________________________________________\n"
     ]
    }
   ],
   "source": [
    "encoder.summary()"
   ]
  },
  {
   "cell_type": "markdown",
   "metadata": {},
   "source": [
    "## 5. Build the decoder network\n",
    "The decoder network follows the schematic diagram below. \n",
    "\n",
    "![Decoder schematic](data/neural_translation_model_decoder.png)"
   ]
  },
  {
   "cell_type": "markdown",
   "metadata": {},
   "source": [
    "You should now build the RNN decoder model.\n",
    "\n",
    "Using Model subclassing, build the decoder network according to the following spec:\n",
    "\n",
    "* The initializer should create the following layers:\n",
    "\n",
    "    * An Embedding layer with vocabulary size set to the number of unique German tokens, embedding dimension 128, and set to mask zero values in the input.\n",
    "\n",
    "    * An LSTM layer with 512 units, that returns its hidden and cell states, and also returns sequences.\n",
    "\n",
    "    * A Dense layer with number of units equal to the number of unique German tokens, and no activation function.\n",
    "\n",
    "* The call method should include the usual `inputs` argument, as well as the additional keyword arguments `hidden_state` and `cell_state`. The default value for these keyword arguments should be `None`.\n",
    "\n",
    "* The call method should pass the inputs through the Embedding layer, and then through the LSTM layer. If the `hidden_state` and `cell_state` arguments are provided, these should be used for the initial state of the LSTM layer. _Hint: use the_ `initial_state` _keyword argument when calling the LSTM layer on its input._\n",
    "* The call method should pass the LSTM output sequence through the Dense layer, and return the resulting Tensor, along with the hidden and cell states of the LSTM layer."
   ]
  },
  {
   "cell_type": "code",
   "execution_count": 26,
   "metadata": {},
   "outputs": [],
   "source": [
    "class DecoderModel(Model):\n",
    "\n",
    "    def __init__(self, **kwargs):\n",
    "        super(DecoderModel, self).__init__(**kwargs)\n",
    "        self.embedding = Embedding (\n",
    "            input_dim = len(tokenizer.word_index) + 1, output_dim = 128, mask_zero = True\n",
    "        )\n",
    "        self.lstm = LSTM(units = 512, return_state = True, return_sequences = True)\n",
    "        self.dense = Dense(units = len(tokenizer.word_index) + 1)\n",
    "\n",
    "    def call(self, inputs, hidden_state = None, cell_state = None):\n",
    "        h = self.embedding(inputs)\n",
    "        if hidden_state is not None and cell_state is not None:\n",
    "            h, hidden_state, cell_state = \\\n",
    "            self.lstm(h, initial_state = [hidden_state, cell_state])\n",
    "        else:\n",
    "            h, hidden_state, cell_state = self.lstm(h)\n",
    "        h = self.dense(h)\n",
    "        return h, hidden_state, cell_state\n",
    "\n",
    "decoder = DecoderModel()"
   ]
  },
  {
   "cell_type": "markdown",
   "metadata": {},
   "source": [
    "Using the Dataset `.take(1)` method, extract a batch of English and German data examples from the training Dataset. Test the decoder model by first calling the encoder model on the English data Tensor to get the hidden and cell states, and then call the decoder model on the German data Tensor and hidden and cell states, and print the shape of the resulting decoder Tensor outputs."
   ]
  },
  {
   "cell_type": "code",
   "execution_count": 27,
   "metadata": {},
   "outputs": [
    {
     "data": {
      "text/plain": [
       "TensorShape([16, 10, 704])"
      ]
     },
     "execution_count": 27,
     "metadata": {},
     "output_type": "execute_result"
    }
   ],
   "source": [
    "[(english_sample, german_sample)] = [(x, y) for x, y in training_dataset.take(1)]\n",
    "[hidden_state, cell_state] = encoder(english_sample)\n",
    "decoder(german_sample, hidden_state, cell_state)[0].shape"
   ]
  },
  {
   "cell_type": "markdown",
   "metadata": {},
   "source": [
    "Print the model summary for the decoder network."
   ]
  },
  {
   "cell_type": "code",
   "execution_count": 28,
   "metadata": {},
   "outputs": [
    {
     "name": "stdout",
     "output_type": "stream",
     "text": [
      "Model: \"decoder_model\"\n",
      "_________________________________________________________________\n",
      "Layer (type)                 Output Shape              Param #   \n",
      "=================================================================\n",
      "embedding (Embedding)        multiple                  90112     \n",
      "_________________________________________________________________\n",
      "lstm_1 (LSTM)                multiple                  1312768   \n",
      "_________________________________________________________________\n",
      "dense (Dense)                multiple                  361152    \n",
      "=================================================================\n",
      "Total params: 1,764,032\n",
      "Trainable params: 1,764,032\n",
      "Non-trainable params: 0\n",
      "_________________________________________________________________\n"
     ]
    }
   ],
   "source": [
    "decoder.summary()"
   ]
  },
  {
   "cell_type": "markdown",
   "metadata": {},
   "source": [
    "## 6. Make a custom training loop\n",
    "You should now write a custom training loop to train your custom neural translation model.\n",
    "_Hint: This model is computationally demanding to train. The quality of the model or length of training is not a factor in the grading rubric. However, to obtain a better model we recommend using the GPU accelerator hardware on Colab._"
   ]
  },
  {
   "cell_type": "markdown",
   "metadata": {},
   "source": [
    "Define a function that takes a Tensor batch of German data (as extracted from the training Dataset), and returns a tuple containing German inputs and outputs for the decoder model (refer to schematic diagram above)."
   ]
  },
  {
   "cell_type": "code",
   "execution_count": 29,
   "metadata": {},
   "outputs": [],
   "source": [
    "create_inputs_and_outputs = lambda array_of_sequences: \\\n",
    "    (array_of_sequences[:, :-1], array_of_sequences[:, 1:])"
   ]
  },
  {
   "cell_type": "markdown",
   "metadata": {},
   "source": [
    "Define a function that computes the forward and backward pass for your translation model. This function should take an English input, German input and German output as arguments, and should do the following:\n",
    "\n",
    "* Pass the English input into the encoder, to get the hidden and cell states of the encoder LSTM.\n",
    "\n",
    "* These hidden and cell states are then passed into the decoder, along with the German inputs, which returns a sequence of outputs (the hidden and cell state outputs of the decoder LSTM are unused in this function).\n",
    "\n",
    "* The loss should then be computed between the decoder outputs and the German output function argument.\n",
    "\n",
    "* The function returns the loss and gradients with respect to the encoder and decoder’s trainable variables.\n",
    "\n",
    "* Decorate the function with @tf.function"
   ]
  },
  {
   "cell_type": "code",
   "execution_count": 30,
   "metadata": {},
   "outputs": [],
   "source": [
    "@tf.function\n",
    "def grad(x, y_input, y_output, loss, trainable_variables):\n",
    "\n",
    "    with tf.GradientTape() as tape:\n",
    "        [hidden_state, cell_state] = encoder(x)\n",
    "        output, _, _ = decoder(y_input, hidden_state, cell_state)\n",
    "        loss_value = loss(y_true = y_output, y_pred = output)\n",
    "\n",
    "    return loss_value, tape.gradient(loss_value, trainable_variables)"
   ]
  },
  {
   "cell_type": "markdown",
   "metadata": {},
   "source": [
    "Define and run a custom training loop for a number of epochs (for you to choose) that does the following:\n",
    "\n",
    "* Iterates through the training dataset, and creates decoder inputs and outputs from the German sequences.\n",
    "\n",
    "* Updates the parameters of the translation model using the gradients of the function above and an optimizer object.\n",
    "\n",
    "* Every epoch, compute the validation loss on a number of batches from the validation and save the epoch training and validation losses."
   ]
  },
  {
   "cell_type": "code",
   "execution_count": 31,
   "metadata": {},
   "outputs": [],
   "source": [
    "def train_resnet(training_dataset, validation_dataset, encoder, decoder):\n",
    "    optimizer = tf.keras.optimizers.Adam(learning_rate = 0.001)\n",
    "    loss = tf.keras.losses.SparseCategoricalCrossentropy()\n",
    "    trainable_variables = encoder.trainable_variables + decoder.trainable_variables\n",
    "\n",
    "    num_epochs = 5\n",
    "    train_loss_results = []\n",
    "    val_loss_results = []\n",
    "\n",
    "    for epoch in range(num_epochs):\n",
    "\n",
    "        epoch_loss_avg = tf.keras.metrics.Mean()\n",
    "        epoch_val_loss_avg = tf.keras.metrics.Mean()\n",
    "\n",
    "        # Training loop\n",
    "        for x, y in training_dataset:\n",
    "\n",
    "            # Creates decoder inputs and outputs\n",
    "            y_input, y_output = create_inputs_and_outputs(y)\n",
    "\n",
    "            # Optimize the model\n",
    "            loss_value, grads = grad(x, y_input, y_output, loss, trainable_variables)\n",
    "            optimizer.apply_gradients(zip(grads, trainable_variables))\n",
    "            epoch_loss_avg(loss_value)\n",
    "\n",
    "        # Validation loop\n",
    "        for x, y in validation_dataset:\n",
    "            y_input, y_output = create_inputs_and_outputs(y)\n",
    "            [hidden_state, cell_state] = encoder(x)\n",
    "            output, _, _ = decoder(y_input, hidden_state, cell_state)\n",
    "            loss_value = loss(y_true = y_output, y_pred = output)\n",
    "            epoch_val_loss_avg(loss_value)\n",
    "\n",
    "        # End epoch\n",
    "        train_loss_results.append(epoch_loss_avg.result())\n",
    "        val_loss_results.append(epoch_val_loss_avg.result())\n",
    "        print(\"Epoch {:02d}: Training loss: {:.3f}, Validation loss: {:.3f}\".format \\\n",
    "              (epoch, train_loss_results[-1], val_loss_results[-1]))\n",
    "\n",
    "    return train_loss_results, val_loss_results"
   ]
  },
  {
   "cell_type": "code",
   "execution_count": 32,
   "metadata": {},
   "outputs": [
    {
     "name": "stdout",
     "output_type": "stream",
     "text": [
      "Epoch 00: Training loss: 4.292, Validation loss: 3.829\n",
      "Epoch 01: Training loss: 3.443, Validation loss: 3.252\n",
      "Epoch 02: Training loss: 3.547, Validation loss: 3.079\n",
      "Epoch 03: Training loss: 3.877, Validation loss: 3.614\n",
      "Epoch 04: Training loss: 3.538, Validation loss: 3.844\n"
     ]
    }
   ],
   "source": [
    "train_loss_results, val_loss_results = \\\n",
    "    train_resnet(training_dataset, validation_dataset, encoder, decoder)"
   ]
  },
  {
   "cell_type": "markdown",
   "metadata": {},
   "source": [
    "Plot the learning curves for loss vs epoch for both training and validation sets."
   ]
  },
  {
   "cell_type": "code",
   "execution_count": 33,
   "metadata": {},
   "outputs": [
    {
     "data": {
      "image/png": "[encoded data removed]",
      "text/plain": [
       "<Figure size 1080x360 with 1 Axes>"
      ]
     },
     "metadata": {
      "needs_background": "light"
     },
     "output_type": "display_data"
    }
   ],
   "source": [
    "plt.figure(figsize = (15, 5))\n",
    "plt.plot(train_loss_results, label = 'training')\n",
    "plt.plot(val_loss_results, label = 'validation')\n",
    "plt.title('Loss vs. Epochs')\n",
    "plt.xlabel('Epoch')\n",
    "plt.ylabel('Loss')\n",
    "plt.legend(['Training', 'Validation'], loc = 'upper right')\n",
    "plt.show()"
   ]
  },
  {
   "cell_type": "markdown",
   "metadata": {},
   "source": [
    "## 7. Use the model to translate\n",
    "Now it's time to put your model into practice! You should run your translation for five randomly sampled English sentences from the dataset. For each sentence, the process is as follows:\n",
    "* Preprocess and embed the English sentence according to the model requirements.\n",
    "* Pass the embedded sentence through the encoder to get the encoder hidden and cell states.\n",
    "* Starting with the special  `\"<start>\"` token, use this token and the final encoder hidden and cell states to get the one-step prediction from the decoder, as well as the decoder’s updated hidden and cell states.\n",
    "* Create a loop to get the next step prediction and updated hidden and cell states from the decoder, using the most recent hidden and cell states. Terminate the loop when the `\"<end>\"` token is emitted, or when the sentence has reached a maximum length.\n",
    "* Decode the output token sequence into German text and print the English text and the model's German translation."
   ]
  },
  {
   "cell_type": "code",
   "execution_count": 34,
   "metadata": {},
   "outputs": [
    {
     "name": "stdout",
     "output_type": "stream",
     "text": [
      "put it on . ['tom tom !']\n",
      "try it on . ['tom !']\n",
      "get away ! ['tom tom dich !']\n",
      "calm down ! ['tom tom !']\n",
      "come on ! ['tom tom !']\n"
     ]
    }
   ],
   "source": [
    "idx = rng.choice(NUM_EXAMPLES, size = 5, replace = False)\n",
    "for text in english_sentences[idx]:\n",
    "\n",
    "    x = tf.strings.split(text)\n",
    "    x = embedding_layer(x)\n",
    "    x = tf.pad(x, paddings = [[13 - len(x), 0], [0, 0]], constant_values = padding_value)\n",
    "    x = x[np.newaxis, ...]\n",
    "\n",
    "    result = []\n",
    "    [hidden_state, cell_state] = encoder(x)\n",
    "\n",
    "    decoder_input = tf.expand_dims([tokenizer.word_index.get('<start>')], 0)\n",
    "\n",
    "    for t in range(training_dataset.element_spec[1].shape[1]):\n",
    "        out, hidden_state, cell_state = decoder(decoder_input, hidden_state, cell_state)\n",
    "        [[predicted_id]] = tf.argmax(out, axis = 2).numpy()\n",
    "\n",
    "        if tokenizer.index_word.get(predicted_id) == '<end>':\n",
    "            break\n",
    "\n",
    "        result.append(predicted_id)\n",
    "        decoder_input = tf.expand_dims([predicted_id], 0)\n",
    "\n",
    "    print(text, tokenizer.sequences_to_texts([result]))\n"
   ]
  }
 ],
 "metadata": {
  "kernelspec": {
   "display_name": "Python 3",
   "language": "python",
   "name": "python3"
  },
  "language_info": {
   "codemirror_mode": {
    "name": "ipython",
    "version": 3
   },
   "file_extension": ".py",
   "mimetype": "text/x-python",
   "name": "python",
   "nbconvert_exporter": "python",
   "pygments_lexer": "ipython3",
   "version": "3.7.7"
  }
 },
 "nbformat": 4,
 "nbformat_minor": 4
}
